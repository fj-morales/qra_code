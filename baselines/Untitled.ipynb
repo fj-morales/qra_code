{
 "cells": [
  {
   "cell_type": "code",
   "execution_count": 25,
   "metadata": {},
   "outputs": [],
   "source": [
    "import pickle\n",
    "import json\n",
    "import gzip\n",
    "import os\n",
    "import subprocess\n",
    "import numpy as np\n",
    "import multiprocessing\n",
    "import re \n",
    "import csv"
   ]
  },
  {
   "cell_type": "code",
   "execution_count": 26,
   "metadata": {},
   "outputs": [],
   "source": [
    "## Options\n",
    "\n",
    "# debugging mode\n",
    "\n",
    "debug = 'yes'\n",
    "build_index_flag = 'yes'\n",
    "# N of workers for multiprocessing used grid_search\n",
    "pool_size = 20\n",
    "\n",
    "data_split = 'dev'\n",
    "workdir = './workdir/'\n",
    "qloc = '../qra_data/superuser/'\n",
    "galago_loc='./galago-3.10-bin/bin/'\n",
    "\n",
    "# build_index_flag = 'no'"
   ]
  },
  {
   "cell_type": "code",
   "execution_count": 27,
   "metadata": {},
   "outputs": [],
   "source": [
    "def remove_sc(text):\n",
    "###    text = re.sub('[.,?;*!%^&_+():-\\[\\]{}]', '', text.replace('\"', '').replace('/', '').replace('\\\\', '').replace(\"'\", '').strip())\n",
    "##    text = re.sub('[\\[\\]{}.,?;*!%^&_+():-]', '', text.replace('\"', '').replace('/', '').replace('\\\\', '').replace(\"'\", '').strip()) # DeepPaper method\n",
    "    text = re.sub(r'[^\\w\\s]',' ',text) # My method\n",
    "###     text = text.rstrip('.?')\n",
    "    return text"
   ]
  },
  {
   "cell_type": "code",
   "execution_count": 28,
   "metadata": {},
   "outputs": [],
   "source": [
    "def read_questions(filename):\n",
    "    with gzip.open(filename, 'rt') as tsv_in:\n",
    "        qreader = csv.reader(tsv_in, delimiter = '\\t')\n",
    "        questions = {}\n",
    "#         q_dict = {}\n",
    "        for q in qreader:\n",
    "            question = {}\n",
    "            if 'quora' in filename:\n",
    "                print('quora')\n",
    "            elif 'sprint' in filename:\n",
    "                print('quora')\n",
    "            else:\n",
    "#                 question['id'] = q[0]\n",
    "#                 q_dict[q[0]] = q[1] + ' ' + q[2]\n",
    "                question['title'] = q[1]\n",
    "                question['text'] = q[2]\n",
    "                questions[q[0]]=(dict(question))\n",
    "#         return [questions, q_dict]\n",
    "        return questions"
   ]
  },
  {
   "cell_type": "code",
   "execution_count": 29,
   "metadata": {},
   "outputs": [],
   "source": [
    "def trectext_format(questions):\n",
    "    trec_questions = {}\n",
    "    for key, q in questions,items():\n",
    "        doc = '<DOC>\\n' + \\\n",
    "              '<DOCNO>' + key + '</DOCNO>\\n' + \\\n",
    "              '<TITLE>' + q['title'] + '</TITLE>\\n' + \\\n",
    "              '<TEXT>' + q['text'] + '</TEXT>\\n' + \\\n",
    "              '</DOC>\\n'\n",
    "        trec_questions[key] = doc\n",
    "    return trec_questions"
   ]
  },
  {
   "cell_type": "code",
   "execution_count": 30,
   "metadata": {},
   "outputs": [],
   "source": [
    "def save_trectext(trec_questions, filename):\n",
    "# Generate file to index\n",
    "    with gzip.open(filename,'wt', encoding='utf-8') as f_out:\n",
    "        for key, value in trec_questions.items():\n",
    "            f_out.write(value)"
   ]
  },
  {
   "cell_type": "code",
   "execution_count": 31,
   "metadata": {},
   "outputs": [],
   "source": [
    "def build_index(index_input, index_loc):\n",
    "# Build corpus index \n",
    "    if not os.path.exists(index_loc):\n",
    "            os.makedirs(index_loc) \n",
    "    index_loc_param = '--indexPath=' + index_loc\n",
    "    galago_parameters = [galago_loc + 'galago', 'build', '--stemmer+krovetz']\n",
    "    galago_parameters.append('--inputPath+' + index_input)\n",
    "    galago_parameters.append(index_loc_param)\n",
    "    print(galago_parameters)\n",
    "\n",
    "    index_proc = subprocess.Popen(galago_parameters,\n",
    "            stdout=subprocess.PIPE, shell=False)\n",
    "    (out, err) = index_proc.communicate()\n",
    "    print(out.decode(\"utf-8\"))\n",
    "    print(err)"
   ]
  },
  {
   "cell_type": "code",
   "execution_count": 32,
   "metadata": {},
   "outputs": [],
   "source": [
    "def read_dups(dups_file):\n",
    "    with open(dups_file, 'rt') as dups_in:\n",
    "        dup_reader = csv.reader(dups_in, delimiter = ' ')\n",
    "        dup_dict = {}\n",
    "        for dup in dup_reader:\n",
    "            dup_dict[dup[0]] = dup[1]\n",
    "    return dup_dict"
   ]
  },
  {
   "cell_type": "code",
   "execution_count": 33,
   "metadata": {},
   "outputs": [],
   "source": [
    "def generate_queries_file(q_all, q_dup, filename):\n",
    "    queries_list = []\n",
    "    queries_dict = {}\n",
    "    query = {}\n",
    "    for key, dup in q_dup.items():\n",
    "        q = q_all[key]\n",
    "        text = remove_sc(q['title'] + ' ' + q['text']) #Join title and text \n",
    "        query['number'] = key\n",
    "#         query['text'] = '#stopword(' + text + ')'\n",
    "        query['text'] = '(' + text + ')'\n",
    "        queries_list.append(dict(query))\n",
    "    queries_dict['queries'] = queries_list\n",
    "    with open(filename, 'wt', encoding='utf-8') as q_file:\n",
    "        json.dump(queries_dict, q_file, indent = 4)"
   ]
  },
  {
   "cell_type": "code",
   "execution_count": 34,
   "metadata": {},
   "outputs": [],
   "source": [
    "# Return top 1 bm25 scored question = 'duplicated' question\n",
    "def get_bm25_docs(queries_file, q_all, q_dup, index_loc, b_val=0.75, k_val=1.2):\n",
    "    index_loc_param = '--index=' + index_loc  \n",
    "    b=' --b=' + str(b_val)\n",
    "    k=' --k=' + str(k_val)\n",
    "    \n",
    "    command = galago_loc + 'galago threaded-batch-search --threadCount=500 --verbose=false \\\n",
    "         --casefold=true --requested=1 ' + \\\n",
    "         index_loc_param + ' --scorer=bm25' + \\\n",
    "         b + \\\n",
    "         k + \\\n",
    "         '   ' + \\\n",
    "         queries_file + ' | cut -d\" \" -f1,3'\n",
    "#     print(command)\n",
    "#     command = command.encode('utf-8')\n",
    "    galago_bm25_exec = subprocess.Popen(command, stdout=subprocess.PIPE, shell=True, encoding='utf-8')\n",
    "    (out, err) = galago_bm25_exec.communicate()\n",
    "    ids_docs = out.splitlines()\n",
    "#     print(ids_docs)\n",
    "    question = {}\n",
    "    bm25_docs = []\n",
    "    return ids_docs\n",
    "\n",
    "    \n",
    "    for key, q in q_dup.items():\n",
    "        question = {}\n",
    "        question['body'] = q_all['title'] + ' ' + q_all['text']\n",
    "        question['id'] = key  \n",
    "        documents = [doc.split(' ')[1] for doc in ids_docs if key+' ' in doc]\n",
    "#         print(documents)\n",
    "        question['documents'] = documents\n",
    "        bm25_docs.append(dict(question))\n",
    "    return bm25_docs"
   ]
  },
  {
   "cell_type": "code",
   "execution_count": 35,
   "metadata": {},
   "outputs": [],
   "source": [
    "def remove_work_dirs():\n",
    "    if debug == 'yes':\n",
    "        print('yes')\n",
    "        # Execute remove sequence"
   ]
  },
  {
   "cell_type": "code",
   "execution_count": 36,
   "metadata": {},
   "outputs": [],
   "source": [
    "dataset_name = qloc.split('/')[-2:]"
   ]
  },
  {
   "cell_type": "code",
   "execution_count": 37,
   "metadata": {},
   "outputs": [],
   "source": [
    "if not os.path.exists(workdir):\n",
    "    os.makedirs(workdir)"
   ]
  },
  {
   "cell_type": "code",
   "execution_count": 38,
   "metadata": {},
   "outputs": [],
   "source": [
    "loc_prefix = workdir + dataset_name[0]\n",
    "index_loc = loc_prefix + '_index'\n",
    "questions_file = loc_prefix + '_questions' + '.gz'\n",
    "queries_file = loc_prefix + '_queries'\n",
    "trectext_file = loc_prefix + '_trectext.gz'\n",
    "index_input = trectext_file\n",
    "dups_file = qloc + data_split + '.pos.txt'\n",
    "corpus_file = qloc + 'corpus.tsv.gz'"
   ]
  },
  {
   "cell_type": "code",
   "execution_count": 39,
   "metadata": {},
   "outputs": [],
   "source": [
    "questions = read_questions(corpus_file)"
   ]
  },
  {
   "cell_type": "code",
   "execution_count": 40,
   "metadata": {},
   "outputs": [],
   "source": [
    "q_dups = read_dups(dups_file)\n",
    "# trec_questions = trectext_format(questions)\n",
    "# save_trectext(trec_questions, trectext_file)"
   ]
  },
  {
   "cell_type": "code",
   "execution_count": 41,
   "metadata": {},
   "outputs": [],
   "source": [
    "generate_queries_file(questions, q_dups, queries_file)"
   ]
  },
  {
   "cell_type": "code",
   "execution_count": 42,
   "metadata": {},
   "outputs": [],
   "source": [
    "# build_index(index_input, index_loc)"
   ]
  },
  {
   "cell_type": "code",
   "execution_count": 43,
   "metadata": {},
   "outputs": [],
   "source": [
    "bm25_docs = get_bm25_docs(queries_file, questions, q_dups, index_loc, b_val=0.75, k_val=1.2)"
   ]
  },
  {
   "cell_type": "code",
   "execution_count": 44,
   "metadata": {},
   "outputs": [
    {
     "data": {
      "text/plain": [
       "'26369 26369'"
      ]
     },
     "execution_count": 44,
     "metadata": {},
     "output_type": "execute_result"
    }
   ],
   "source": [
    "bm25_docs[0]"
   ]
  },
  {
   "cell_type": "code",
   "execution_count": 45,
   "metadata": {},
   "outputs": [
    {
     "data": {
      "text/plain": [
       "{'title': \"Ping IP returned `` destination net unreachable '' , even with different network\",\n",
       " 'text': \"I could n't log in to facebook , so I ping the domain and got this : ping www.facebook.com Pinging www.facebook.com [ 69.171.228.14 ] with 32 bytes of data : Request timed out . Reply from 204.15.23.57 : Destination net unreachable . But when I ping this IP , it is reachable . Pinging 204.15.23.57 with 32 bytes of data : Reply from 204.15.23.57 : bytes=32 time=190ms TTL=51 I realize it is something wrong with my computer , as I have tried using different networks ( on the same network other devices can connect to facebook ) , resetting router\"}"
      ]
     },
     "execution_count": 45,
     "metadata": {},
     "output_type": "execute_result"
    }
   ],
   "source": [
    "questions['690534']"
   ]
  },
  {
   "cell_type": "code",
   "execution_count": 46,
   "metadata": {},
   "outputs": [
    {
     "data": {
      "text/plain": [
       "{'title': \"Ping IP returned `` destination net unreachable '' , even with different network\",\n",
       " 'text': \"I could n't log in to facebook , so I ping the domain and got this : ping www.facebook.com Pinging www.facebook.com [ 69.171.228.14 ] with 32 bytes of data : Request timed out . Reply from 204.15.23.57 : Destination net unreachable . But when I ping this IP , it is reachable . Pinging 204.15.23.57 with 32 bytes of data : Reply from 204.15.23.57 : bytes=32 time=190ms TTL=51 I realize it is something wrong with my computer , as I have tried using different networks ( on the same network other devices can connect to facebook ) , resetting router\"}"
      ]
     },
     "execution_count": 46,
     "metadata": {},
     "output_type": "execute_result"
    }
   ],
   "source": [
    "questions['690447']    "
   ]
  },
  {
   "cell_type": "code",
   "execution_count": 47,
   "metadata": {},
   "outputs": [
    {
     "name": "stdout",
     "output_type": "stream",
     "text": [
      "690534 690447\n",
      "no\n",
      "367402 367043\n",
      "no\n",
      "643118 643112\n",
      "no\n",
      "561311 561056\n",
      "no\n",
      "790938 790557\n",
      "no\n",
      "411028 410627\n",
      "no\n",
      "422799 422170\n",
      "no\n"
     ]
    }
   ],
   "source": [
    "for doc in bm25_docs:\n",
    "    doc_parts = doc.split(' ')\n",
    "    if not doc_parts[0] == doc_parts[1]:\n",
    "        print(doc)\n",
    "        print('no')"
   ]
  },
  {
   "cell_type": "code",
   "execution_count": null,
   "metadata": {},
   "outputs": [],
   "source": []
  },
  {
   "cell_type": "code",
   "execution_count": 48,
   "metadata": {},
   "outputs": [],
   "source": [
    "# len(bm25_docs[0]['documents'])"
   ]
  }
 ],
 "metadata": {
  "kernelspec": {
   "display_name": "Python [conda env:qra-gpu-py3]",
   "language": "python",
   "name": "conda-env-qra-gpu-py3-py"
  },
  "language_info": {
   "codemirror_mode": {
    "name": "ipython",
    "version": 3
   },
   "file_extension": ".py",
   "mimetype": "text/x-python",
   "name": "python",
   "nbconvert_exporter": "python",
   "pygments_lexer": "ipython3",
   "version": "3.6.8"
  }
 },
 "nbformat": 4,
 "nbformat_minor": 2
}
